{
    "cells": [
        {
            "cell_type": "markdown",
            "metadata": {},
            "source": "# Python Example Using Spark"
        },
        {
            "cell_type": "code",
            "execution_count": 1,
            "metadata": {},
            "outputs": [
                {
                    "name": "stdout",
                    "output_type": "stream",
                    "text": "Waiting for a Spark session to start...\nSpark Initialization Done! ApplicationId = app-20200920150218-0000\nKERNEL_ID = 93286c2a-f4a4-429c-b2d3-ce8fb4186a05\n"
                },
                {
                    "data": {
                        "text/plain": "[Row(Ozone='41', Solar.R='190', Wind='7.4', Temp='67', Month='5', Day='1'),\n Row(Ozone='36', Solar.R='118', Wind='8', Temp='72', Month='5', Day='2'),\n Row(Ozone='12', Solar.R='149', Wind='12.6', Temp='74', Month='5', Day='3'),\n Row(Ozone='18', Solar.R='313', Wind='11.5', Temp='62', Month='5', Day='4'),\n Row(Ozone='NA', Solar.R='NA', Wind='14.3', Temp='56', Month='5', Day='5')]"
                    },
                    "execution_count": 1,
                    "metadata": {},
                    "output_type": "execute_result"
                }
            ],
            "source": "# The code was removed by Watson Studio for sharing."
        },
        {
            "cell_type": "code",
            "execution_count": null,
            "metadata": {},
            "outputs": [],
            "source": ""
        }
    ],
    "metadata": {
        "kernelspec": {
            "display_name": "Python 3.6 with Spark",
            "language": "python3",
            "name": "python36"
        },
        "language_info": {
            "codemirror_mode": {
                "name": "ipython",
                "version": 3
            },
            "file_extension": ".py",
            "mimetype": "text/x-python",
            "name": "python",
            "nbconvert_exporter": "python",
            "pygments_lexer": "ipython3",
            "version": "3.6.8"
        }
    },
    "nbformat": 4,
    "nbformat_minor": 1
}